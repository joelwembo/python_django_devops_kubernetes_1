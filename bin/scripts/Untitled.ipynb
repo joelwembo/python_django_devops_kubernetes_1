{
 "cells": [
  {
   "cell_type": "code",
   "execution_count": 1,
   "id": "f061667d-21d1-47f0-980e-8029b96c6664",
   "metadata": {},
   "outputs": [],
   "source": [
    "import requests"
   ]
  },
  {
   "cell_type": "code",
   "execution_count": 3,
   "id": "98407087-8a81-4741-bb1a-5f30ac8e5720",
   "metadata": {},
   "outputs": [
    {
     "name": "stdout",
     "output_type": "stream",
     "text": [
      "Fetched Bitcoin (BTC) price: 48985.83203125\n",
      "Stored BTC-GBP stock price: 48985.83203125 in the database.\n",
      "Published BTC-GBP stock price: 48985.83203125 to CloudWatch.\n",
      "Fetched Ethereum (ETH) price: 1916.54345703125\n",
      "Stored ETH-GBP stock price: 1916.54345703125 in the database.\n",
      "Published ETH-GBP stock price: 1916.54345703125 to CloudWatch.\n"
     ]
    },
    {
     "name": "stderr",
     "output_type": "stream",
     "text": [
      "$EUR-GBP: possibly delisted; no price data found  (period=1d) (Yahoo error = \"No data found, symbol may be delisted\")\n"
     ]
    },
    {
     "name": "stdout",
     "output_type": "stream",
     "text": [
      "Error processing Euro (EUR): single positional indexer is out-of-bounds\n",
      "Fetched Dogecoin (DOGE) price: 0.08703538775444031\n",
      "Stored DOGE-GBP stock price: 0.08703538775444031 in the database.\n",
      "Published DOGE-GBP stock price: 0.08703538775444031 to CloudWatch.\n"
     ]
    }
   ],
   "source": [
    "import json\n",
    "import yfinance as yf\n",
    "import psycopg2\n",
    "import os\n",
    "import boto3\n",
    "\n",
    "# Set up environment variables for RDS connection\n",
    "RDS_HOST = \"ae31db6120e004afc9dd67a33d31fa9c-460277633.us-west-2.elb.amazonaws.com\"\n",
    "RDS_DB = \"db4\"\n",
    "RDS_USER = \"postgres\"\n",
    "RDS_PASSWORD = \"postgres\"\n",
    "CLOUDWATCH_NAMESPACE = 'StockPriceMonitoring'\n",
    "\n",
    "# Create a CloudWatch client\n",
    "cloudwatch = boto3.client('cloudwatch')\n",
    "\n",
    "def get_stock_price(symbol):\n",
    "    \"\"\"\n",
    "    Fetches the latest stock price for the given symbol using yfinance.\n",
    "    \"\"\"\n",
    "    stock = yf.Ticker(symbol)\n",
    "    stock_info = stock.history(period='1d')\n",
    "    return stock_info['Close'].iloc[-1]\n",
    "\n",
    "def store_stock_price(symbol, price):\n",
    "    \"\"\"\n",
    "    Stores the stock price in the PostgreSQL database.\n",
    "    \"\"\"\n",
    "    try:\n",
    "        price = float(price)\n",
    "        # Connect to the PostgreSQL database\n",
    "        conn = psycopg2.connect(\n",
    "            host=RDS_HOST,\n",
    "            database=RDS_DB,\n",
    "            user=RDS_USER,\n",
    "            password=RDS_PASSWORD\n",
    "        )\n",
    "        cur = conn.cursor()\n",
    "        \n",
    "        # Insert stock price into the table\n",
    "        cur.execute(\"INSERT INTO stock_prices (stock_symbol, stock_price) VALUES (%s, %s)\", (symbol, price))\n",
    "        conn.commit()\n",
    "        cur.close()\n",
    "        conn.close()\n",
    "        print(f\"Stored {symbol} stock price: {price} in the database.\")\n",
    "    except Exception as e:\n",
    "        print(f\"Error storing stock price: {e}\")\n",
    "\n",
    "def publish_cloudwatch_metric(symbol, price):\n",
    "    \"\"\"\n",
    "    Publishes the stock price as a custom CloudWatch metric.\n",
    "    \"\"\"\n",
    "    try:\n",
    "        cloudwatch.put_metric_data(\n",
    "            Namespace=CLOUDWATCH_NAMESPACE,\n",
    "            MetricData=[\n",
    "                {\n",
    "                    'MetricName': 'StockPrice',\n",
    "                    'Dimensions': [{'Name': 'StockSymbol', 'Value': symbol}],\n",
    "                    'Value': price,\n",
    "                    'Unit': 'None'\n",
    "                }\n",
    "            ]\n",
    "        )\n",
    "        print(f\"Published {symbol} stock price: {price} to CloudWatch.\")\n",
    "    except Exception as e:\n",
    "        print(f\"Error publishing to CloudWatch: {e}\")\n",
    "\n",
    "def main():\n",
    "    \"\"\"\n",
    "    Main function to get cryptocurrency and currency prices, store them in PostgreSQL,\n",
    "    and send them to CloudWatch.\n",
    "    \"\"\"\n",
    "    # List of cryptocurrency and currency symbols\n",
    "    symbols = {\n",
    "        \"BTC-GBP\": \"Bitcoin (BTC)\",\n",
    "        \"ETH-GBP\": \"Ethereum (ETH)\",\n",
    "        \"EUR-GBP\": \"Euro (EUR)\",\n",
    "        \"DOGE-GBP\": \"Dogecoin (DOGE)\"\n",
    "    }\n",
    "\n",
    "    for ticker, name in symbols.items():\n",
    "        try:\n",
    "            # Fetch the price for each symbol\n",
    "            price = get_stock_price(ticker)\n",
    "            print(f\"Fetched {name} price: {price}\")\n",
    "            \n",
    "            # Store the price in PostgreSQL\n",
    "            store_stock_price(ticker, price)\n",
    "            \n",
    "            # Publish the price to CloudWatch\n",
    "            publish_cloudwatch_metric(ticker, price)\n",
    "        except Exception as e:\n",
    "            print(f\"Error processing {name}: {e}\")\n",
    "\n",
    "\n",
    "if __name__ == \"__main__\":\n",
    "    main()\n"
   ]
  },
  {
   "cell_type": "code",
   "execution_count": null,
   "id": "75d31550-a463-4710-90f7-c08b4d59780b",
   "metadata": {},
   "outputs": [],
   "source": []
  }
 ],
 "metadata": {
  "kernelspec": {
   "display_name": "Python 3 (ipykernel)",
   "language": "python",
   "name": "python3"
  },
  "language_info": {
   "codemirror_mode": {
    "name": "ipython",
    "version": 3
   },
   "file_extension": ".py",
   "mimetype": "text/x-python",
   "name": "python",
   "nbconvert_exporter": "python",
   "pygments_lexer": "ipython3",
   "version": "3.12.5"
  }
 },
 "nbformat": 4,
 "nbformat_minor": 5
}
